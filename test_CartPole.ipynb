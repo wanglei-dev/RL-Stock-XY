{
 "cells": [
  {
   "cell_type": "markdown",
   "id": "d8cdd7ae",
   "metadata": {},
   "source": [
    "使用python3.10解析器\n"
   ]
  },
  {
   "cell_type": "code",
   "execution_count": null,
   "id": "43503693",
   "metadata": {},
   "outputs": [],
   "source": [
    "# ! pip install gymnasium[classic-control] -i https://pypi.tuna.tsinghua.edu.cn/simple/"
   ]
  },
  {
   "cell_type": "markdown",
   "id": "d843f8c2",
   "metadata": {},
   "source": [
    "Gymnasium 基本 API"
   ]
  },
  {
   "cell_type": "code",
   "execution_count": 1,
   "id": "62ddc4d1",
   "metadata": {},
   "outputs": [],
   "source": [
    "import gymnasium as gym\n",
    "import matplotlib.pyplot as plt\n",
    "import imageio\n",
    "\n",
    "# 初始化环境\n",
    "env = gym.make(\"CartPole-v1\", render_mode=\"rgb_array\")\n",
    "\n",
    "# 重置环境并获取第一次的观测\n",
    "obs, info = env.reset(seed=42)\n",
    "frames = []\n",
    "done = False\n",
    "while not done:\n",
    "    action = env.action_space.sample()\n",
    "\n",
    "    # 执行动作使环境运行一个时间步（状态转移）\n",
    "    # 接收下一个观测，奖励，以及是否结束或者截断\n",
    "    obs, reward, terminated, truncated, info = env.step(action)\n",
    "    frames.append(env.render())\n",
    "    done = terminated or truncated  # 如果回合结束，跳出循环。多回合则注释掉。\n",
    "env.close()\n",
    "\n",
    "gif_path = 'cartpole.gif'\n",
    "imageio.mimsave(gif_path, frames, fps=30)"
   ]
  },
  {
   "cell_type": "code",
   "execution_count": 3,
   "id": "0cb6d9bf",
   "metadata": {},
   "outputs": [
    {
     "data": {
      "text/plain": [
       "((4,), 2)"
      ]
     },
     "execution_count": 3,
     "metadata": {},
     "output_type": "execute_result"
    }
   ],
   "source": [
    "env.observation_space.shape, env.action_space.n"
   ]
  },
  {
   "cell_type": "markdown",
   "id": "bdbc4b86",
   "metadata": {},
   "source": [
    "Gymnasium + Stable-Baselines3"
   ]
  },
  {
   "cell_type": "code",
   "execution_count": null,
   "id": "d9d22651",
   "metadata": {},
   "outputs": [
    {
     "ename": "TypeError",
     "evalue": "SAC.__init__() got an unexpected keyword argument 'n_steps'",
     "output_type": "error",
     "traceback": [
      "\u001b[0;31m---------------------------------------------------------------------------\u001b[0m",
      "\u001b[0;31mTypeError\u001b[0m                                 Traceback (most recent call last)",
      "Cell \u001b[0;32mIn[2], line 11\u001b[0m\n\u001b[1;32m      9\u001b[0m train_env \u001b[38;5;241m=\u001b[39m DummyVecEnv([make_env])\n\u001b[1;32m     10\u001b[0m \u001b[38;5;66;03m# model = PPO(\"MlpPolicy\", train_env, verbose=0, n_steps=1024, batch_size=256)\u001b[39;00m\n\u001b[0;32m---> 11\u001b[0m model \u001b[38;5;241m=\u001b[39m \u001b[43mSAC\u001b[49m\u001b[43m(\u001b[49m\u001b[38;5;124;43m\"\u001b[39;49m\u001b[38;5;124;43mMlpPolicy\u001b[39;49m\u001b[38;5;124;43m\"\u001b[39;49m\u001b[43m,\u001b[49m\u001b[43m \u001b[49m\u001b[43mtrain_env\u001b[49m\u001b[43m,\u001b[49m\u001b[43m \u001b[49m\u001b[43mverbose\u001b[49m\u001b[38;5;241;43m=\u001b[39;49m\u001b[38;5;241;43m0\u001b[39;49m\u001b[43m,\u001b[49m\u001b[43m \u001b[49m\u001b[43mn_steps\u001b[49m\u001b[38;5;241;43m=\u001b[39;49m\u001b[38;5;241;43m1024\u001b[39;49m\u001b[43m,\u001b[49m\u001b[43m \u001b[49m\u001b[43mbatch_size\u001b[49m\u001b[38;5;241;43m=\u001b[39;49m\u001b[38;5;241;43m256\u001b[39;49m\u001b[43m)\u001b[49m\n\u001b[1;32m     12\u001b[0m model\u001b[38;5;241m.\u001b[39mlearn(total_timesteps\u001b[38;5;241m=\u001b[39m\u001b[38;5;241m8_000\u001b[39m)\n\u001b[1;32m     14\u001b[0m \u001b[38;5;66;03m# 收集帧\u001b[39;00m\n",
      "\u001b[0;31mTypeError\u001b[0m: SAC.__init__() got an unexpected keyword argument 'n_steps'"
     ]
    }
   ],
   "source": [
    "import gymnasium as gym\n",
    "from stable_baselines3 import PPO,SAC\n",
    "from stable_baselines3.common.vec_env import DummyVecEnv\n",
    "import imageio\n",
    "\n",
    "def make_env():\n",
    "    return gym.make(\"CartPole-v1\", render_mode=\"rgb_array\")\n",
    "\n",
    "train_env = DummyVecEnv([make_env])\n",
    "model = PPO(\"MlpPolicy\", train_env, verbose=0, n_steps=1024, batch_size=256)\n",
    "model.learn(total_timesteps=8_000)\n",
    "\n",
    "# 收集帧\n",
    "env = make_env()\n",
    "obs, info = env.reset(seed=42)\n",
    "frames = []\n",
    "for _ in range(400):\n",
    "    action, _ = model.predict(obs, deterministic=True)\n",
    "    obs, reward, terminated, truncated, info = env.step(action)\n",
    "    frames.append(env.render())\n",
    "    if terminated or truncated:\n",
    "        break\n",
    "env.close()\n",
    "\n",
    "imageio.mimsave(\"cartpole_trained.gif\", frames, fps=30)\n",
    "print(\"GIF 保存为 cartpole_trained.gif (帧数=\", len(frames), \")\")"
   ]
  },
  {
   "cell_type": "code",
   "execution_count": null,
   "id": "705db61d",
   "metadata": {},
   "outputs": [],
   "source": []
  }
 ],
 "metadata": {
  "kernelspec": {
   "display_name": "Python 3",
   "language": "python",
   "name": "python3"
  },
  "language_info": {
   "codemirror_mode": {
    "name": "ipython",
    "version": 3
   },
   "file_extension": ".py",
   "mimetype": "text/x-python",
   "name": "python",
   "nbconvert_exporter": "python",
   "pygments_lexer": "ipython3",
   "version": "3.11.9"
  }
 },
 "nbformat": 4,
 "nbformat_minor": 5
}
